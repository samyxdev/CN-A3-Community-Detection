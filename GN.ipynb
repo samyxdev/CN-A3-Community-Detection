{
 "cells": [
  {
   "cell_type": "markdown",
   "id": "5322b511-4317-423b-9c72-98ff086c83dd",
   "metadata": {},
   "source": [
    "# Girvan and Newman algorithm"
   ]
  },
  {
   "cell_type": "code",
   "execution_count": null,
   "id": "d96b38c9-dc96-44e5-b259-e98b37ada0a3",
   "metadata": {},
   "outputs": [],
   "source": [
    "import networkx as nx\n",
    "import os\n",
    "\n",
    "netpath = \"nets\"\n"
   ]
  }
 ],
 "metadata": {
  "kernelspec": {
   "display_name": "Python 3",
   "language": "python",
   "name": "python3"
  },
  "language_info": {
   "codemirror_mode": {
    "name": "ipython",
    "version": 3
   },
   "file_extension": ".py",
   "mimetype": "text/x-python",
   "name": "python",
   "nbconvert_exporter": "python",
   "pygments_lexer": "ipython3",
   "version": "3.9.6"
  }
 },
 "nbformat": 4,
 "nbformat_minor": 5
}
