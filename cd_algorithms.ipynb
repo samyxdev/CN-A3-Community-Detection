{
 "cells": [
  {
   "cell_type": "markdown",
   "id": "fed1351c",
   "metadata": {},
   "source": [
    "# Community detection algorithms using *networkx* and *igraph* python modules\n",
    "The main goal of this notebook is to show the implementation of different community detection algorithms, applied to some provided networks, and to compare the obtained partitions and results. <br>\n",
    "We'll use some community detection algorithms implemented in the [networkx](https://networkx.org/documentation/stable/index.html#) python package and others implemented in [igraph](https://igraph.org/python/) for python.<br>\n",
    "All the plots will be realized by using *networkx*, in order to have similar plots among the various partitions of each network."
   ]
  },
  {
   "cell_type": "markdown",
   "id": "f55182f4",
   "metadata": {},
   "source": [
    "### Load libraries"
   ]
  },
  {
   "cell_type": "code",
   "execution_count": 1,
   "id": "d96b38c9-dc96-44e5-b259-e98b37ada0a3",
   "metadata": {},
   "outputs": [],
   "source": [
    "# load libraries\n",
    "import networkx as nx\n",
    "import igraph as ig\n",
    "import numpy as np\n",
    "import networkx.algorithms.community as nx_comm\n",
    "import matplotlib.pyplot as plt\n",
    "import matplotlib.cm as cm\n",
    "import os\n",
    "from networkx.utils import open_file\n",
    "from collections import defaultdict\n",
    "\n",
    "plt.rcParams[\"figure.figsize\"] = (12, 12)\n",
    "nets_path = \"nets\"\n",
    "seed = 123"
   ]
  },
  {
   "cell_type": "code",
   "execution_count": 2,
   "id": "d841f41d-42ce-4133-a2e3-e08498329623",
   "metadata": {},
   "outputs": [],
   "source": [
    "# traverse all the network files\n",
    "#for r, s, files in os.walk(nets_path):\n",
    "#    for f in files:\n",
    "#        if f.split(\".\")[-1] == \"net\": # To avoid .clu files \n",
    "#            print(f\"------- Network: {r}\\{f} -----\")\n",
    "#            g = nx.read_pajek(os.path.join(r, f))\n",
    "#            print(f\"{g.number_of_nodes()} nodes, {g.number_of_edges()} edges.\")"
   ]
  },
  {
   "cell_type": "markdown",
   "id": "8c35d7fd-931a-4631-a5e4-0f03b6819089",
   "metadata": {},
   "source": [
    "## Testing on a single network"
   ]
  },
  {
   "cell_type": "code",
   "execution_count": 3,
   "id": "fe17db67",
   "metadata": {},
   "outputs": [],
   "source": [
    "network_f = \"toy\"\n",
    "network_name = \"graph3+1+3\""
   ]
  },
  {
   "cell_type": "code",
   "execution_count": 4,
   "id": "1bf0f9d2-00c0-48fb-b37c-bdb7e5c2168c",
   "metadata": {},
   "outputs": [],
   "source": [
    "# read the network\n",
    "path = os.path.join(\"nets\", network_f, network_name + '.net')\n",
    "G = nx.read_pajek(path)"
   ]
  },
  {
   "cell_type": "markdown",
   "id": "5a6d4aac",
   "metadata": {},
   "source": [
    "### Some network descriptors"
   ]
  },
  {
   "cell_type": "code",
   "execution_count": 5,
   "id": "d307bae0",
   "metadata": {},
   "outputs": [
    {
     "name": "stdout",
     "output_type": "stream",
     "text": [
      "Number of nodes: 7\n",
      "Number of edges: 8\n",
      "Min degree: 2\n",
      "Max degree: 3\n",
      "Avg degree: 2.2857\n",
      "Assortativity: -0.6\n",
      "Avg path length: 2.1905\n",
      "Diameter: 4\n"
     ]
    }
   ],
   "source": [
    "nnodes = G.number_of_nodes()\n",
    "print(\"Number of nodes: {}\".format(nnodes))\n",
    "#G.nodes()\n",
    "\n",
    "print(\"Number of edges: {}\".format(G.number_of_edges()))\n",
    "#G.edges()\n",
    "\n",
    "degrees_values = [val for key,val in G.degree()] # degree for each node\n",
    "#degrees_values\n",
    "\n",
    "print(\"Min degree: {}\".format(np.min(degrees_values)))\n",
    "print(\"Max degree: {}\".format(np.max(degrees_values)))\n",
    "print(\"Avg degree: {}\".format(round(np.mean(degrees_values), 4)))\n",
    "#G = nx.Graph(G)\n",
    "\n",
    "#print(\"Clustering: {}\".format(round(nx.average_clustering(G), 4))) <----->\n",
    "print(\"Assortativity: {}\".format(round(nx.degree_assortativity_coefficient(G), 4)))\n",
    "if nx.is_connected(G):\n",
    "    print(\"Avg path length: {}\".format(round(nx.average_shortest_path_length(G), 4)))\n",
    "    print(\"Diameter: {}\".format(nx.diameter(G)))"
   ]
  },
  {
   "cell_type": "markdown",
   "id": "d0b57b8e",
   "metadata": {},
   "source": [
    "### Plot the net"
   ]
  },
  {
   "cell_type": "markdown",
   "id": "1389ae55",
   "metadata": {},
   "source": [
    "For networks that already contain coordinates of the nodes, we use the same coordinates to perform the plotting of the network. We therefore define the following auxiliary function that reads the coordinates from the network pajek file and populates a dictionary containing the coordinate of each node."
   ]
  },
  {
   "cell_type": "code",
   "execution_count": 6,
   "id": "44be4248",
   "metadata": {},
   "outputs": [],
   "source": [
    "@open_file(0, mode='rb')\n",
    "def read_net_positions(path, encoding = 'UTF-8'):\n",
    "    pos = {} # dictionary to be populated with the coordinates of each node\n",
    "    \n",
    "    lines = (line.decode(encoding) for line in path)\n",
    "\n",
    "    if isinstance(lines, str):\n",
    "        lines = iter(lines.split('\\n'))\n",
    "    lines = iter([line.rstrip('\\n') for line in lines])\n",
    "    \n",
    "    while lines:\n",
    "        try:\n",
    "            l = next(lines)\n",
    "        except: # EOF\n",
    "            break\n",
    "        if l.lower().startswith(\"*vertices\"): # first line\n",
    "            l, nnodes = l.split()\n",
    "            for i in range(int(nnodes)):\n",
    "                l = next(lines)\n",
    "                splitted = l.split()\n",
    "                splitted[2:4] = [float(el) for el in splitted[2:4]]\n",
    "                \n",
    "                idx = str(splitted[1])\n",
    "                if '\"' in idx:\n",
    "                    idx = idx.replace('\"', '')\n",
    "                pos[idx] = splitted[2:4]\n",
    "\n",
    "    return pos  "
   ]
  },
  {
   "cell_type": "markdown",
   "id": "7a931bc5",
   "metadata": {},
   "source": [
    "For the networks without a provided node positioning, since we want to provide proper visualisation of the communities, we will use the layout algorithm proposed by Kamada-Kawai which renders the network with minimal edge-overlapping. <br>\n",
    "Original paper: https://doi.org/10.1016/0020-0190(89)90102-6<br>"
   ]
  },
  {
   "cell_type": "code",
   "execution_count": 7,
   "id": "a7e10177",
   "metadata": {},
   "outputs": [],
   "source": [
    "# compute nodes position\n",
    "pos = read_net_positions(path) # read positions from network file\n",
    "\n",
    "if len(tuple(pos.values())[0]) == 0:\n",
    "    pos = nx.kamada_kawai_layout(G)"
   ]
  },
  {
   "cell_type": "markdown",
   "id": "704ee08c",
   "metadata": {},
   "source": [
    "Note that the same nodes coordinates will be reused for all the plots of the partitions of the same network, in order to allow an easy visual inspection of the different created clusters"
   ]
  },
  {
   "cell_type": "code",
   "execution_count": 8,
   "id": "003647db",
   "metadata": {},
   "outputs": [
    {
     "data": {
      "image/png": "[encoded data removed]",
      "text/plain": [
       "<Figure size 864x864 with 1 Axes>"
      ]
     },
     "metadata": {},
     "output_type": "display_data"
    }
   ],
   "source": [
    "# perform the drawing, by using the node coordinates calculated above\n",
    "\n",
    "# select node size depending on the network size\n",
    "if nnodes >= 2000:\n",
    "    node_size = 30\n",
    "elif nnodes >= 1000 and nnodes < 2000:\n",
    "    node_size = 50\n",
    "elif nnodes >= 500 and nnodes  < 1000:\n",
    "    node_size =  150\n",
    "else:\n",
    "    node_size = 250\n",
    "    \n",
    "p_i = os.path.join(\"images\", network_f, network_name)\n",
    "if not os.path.exists(p_i):\n",
    "    os.makedirs(p_i)\n",
    "    \n",
    "nx.draw(G, pos=pos, node_size=node_size)\n",
    "\n",
    "plt.savefig(os.path.join(p_i, network_name + '_intro-plot.png')) # to save the plot"
   ]
  },
  {
   "cell_type": "markdown",
   "id": "4ef19402-e64d-4a75-a39b-e29fd1a07ee1",
   "metadata": {},
   "source": [
    "With the plot of this network, we are able to identify several communities with our human vision, as we are naturally able to make complex associations between objects. However, for real-world usecases (and for complex networks), we need to implement algorithms that can compute communities, like we are doing, based on different criteria specific to each algorithm: betweeness, maximum modularity and so on."
   ]
  },
  {
   "cell_type": "markdown",
   "id": "5322b511-4317-423b-9c72-98ff086c83dd",
   "metadata": {},
   "source": [
    "## Greedy method of Newman: modularity maximization\n",
    "Clauset-Newman-Moore greedy modularity maximization to find the community partition with the largest modularity. <br>\n",
    "Reference paper: [https://arxiv.org/abs/cond-mat/0408187](https://arxiv.org/abs/cond-mat/0408187).<br>\n",
    "The algorithm finds communities by using a modularity maximization approach: it begins with each node in its own community and repeatedly joins the pair of communities that lead to the largest modularity until no futher increase in modularity is possible. <br>\n",
    "\n",
    "For the detailed implementation, see the [networkx](https://networkx.org/documentation/stable/reference/algorithms/generated/networkx.algorithms.community.modularity_max.greedy_modularity_communities.html#networkx.algorithms.community.modularity_max.greedy_modularity_communities) reference. We apply the algorithm with the default parameters."
   ]
  },
  {
   "cell_type": "markdown",
   "id": "9d70be18-55d5-428e-ae59-6273d065465e",
   "metadata": {
    "tags": []
   },
   "source": [
    "### Community detection"
   ]
  },
  {
   "cell_type": "code",
   "execution_count": 9,
   "id": "5df88b33-24f8-4b4e-871d-e4837d7e83d8",
   "metadata": {},
   "outputs": [
    {
     "name": "stdout",
     "output_type": "stream",
     "text": [
      "Number of found communities: 2\n"
     ]
    }
   ],
   "source": [
    "communities = nx_comm.greedy_modularity_communities(G, weight='weight')\n",
    "\n",
    "print(\"Number of found communities: {}\".format(len(communities)))\n",
    "#print(\"\\nCommunities:\")\n",
    "#print(communities)"
   ]
  },
  {
   "cell_type": "code",
   "execution_count": 10,
   "id": "c3f7693d",
   "metadata": {},
   "outputs": [],
   "source": [
    "# first community (the largest)\n",
    "#print(sorted(communities[0]))"
   ]
  },
  {
   "cell_type": "markdown",
   "id": "c65c49e1",
   "metadata": {},
   "source": [
    "### Modularity\n",
    "Let's calculate the modularity of the graph with respect to the obtained partitioning of the vertices. <br>\n",
    "It measures how strongly separated the different clusters are from each other compared to a random null model. <br>\n",
    "*networkx* implementation: [https://networkx.org/documentation/stable/reference/algorithms/generated/networkx.algorithms.community.quality.modularity.html#networkx.algorithms.community.quality.modularity](https://networkx.org/documentation/stable/reference/algorithms/generated/networkx.algorithms.community.quality.modularity.html#networkx.algorithms.community.quality.modularity). <br>\n",
    "\n",
    "We use the default *resolution* parameter set to 1."
   ]
  },
  {
   "cell_type": "code",
   "execution_count": 11,
   "id": "caf6a521",
   "metadata": {},
   "outputs": [
    {
     "data": {
      "text/plain": [
       "0.3671875"
      ]
     },
     "execution_count": 11,
     "metadata": {},
     "output_type": "execute_result"
    }
   ],
   "source": [
    "nx_comm.modularity(G, communities)"
   ]
  },
  {
   "cell_type": "markdown",
   "id": "11c593cd",
   "metadata": {},
   "source": [
    "### Community visualisation\n",
    "Let's plot the nodes with a different colour for each identified community"
   ]
  },
  {
   "cell_type": "code",
   "execution_count": 12,
   "id": "a9ac8676",
   "metadata": {},
   "outputs": [],
   "source": [
    "# dict assigning to each node the corresponding community number: we need this to build a color map\n",
    "part = {}\n",
    "\n",
    "for node in G.nodes():    \n",
    "    for i in range(len(communities)):\n",
    "        if node in sorted(communities[i]):\n",
    "            if '*' in str(node):\n",
    "                part[int(node.replace('*', \"\"))] = i\n",
    "            else:\n",
    "                part[node] = i\n",
    "#print(part)"
   ]
  },
  {
   "cell_type": "code",
   "execution_count": 13,
   "id": "5f29ef07",
   "metadata": {},
   "outputs": [
    {
     "data": {
      "image/png": "[encoded data removed]",
      "text/plain": [
       "<Figure size 864x864 with 1 Axes>"
      ]
     },
     "metadata": {},
     "output_type": "display_data"
    }
   ],
   "source": [
    "# get colormap to color nodes according to their partition\n",
    "if len(communities) > 20:\n",
    "    cmap = cm.get_cmap('gist_ncar', max(part.values()) + 1)\n",
    "    #cmap = cm.get_cmap('tab20', max(part.values()) + 1)\n",
    "else:\n",
    "    cmap = cm.get_cmap('tab20', max(part.values()) + 1)\n",
    "\n",
    "# draw nodes, with a different color for each community\n",
    "nx.draw(G, pos=pos, cmap=cmap, node_color=list(part.values()), node_size=node_size)\n",
    "plt.savefig(os.path.join(p_i, network_name + '_greedy.png'))\n",
    "plt.show()"
   ]
  },
  {
   "cell_type": "markdown",
   "id": "12eaed22",
   "metadata": {},
   "source": [
    "### Write partitions in Pajek format (.clu)\n",
    "We define an auxiliary function to save the obtained partition as a .clu file"
   ]
  },
  {
   "cell_type": "code",
   "execution_count": 14,
   "id": "7f7ef2b0",
   "metadata": {},
   "outputs": [],
   "source": [
    "@open_file(1, mode='wb')\n",
    "def write_pajek_communities(communities, path, encoding = 'UTF-8'):\n",
    "    \n",
    "    first_line = f\"*Vertices {G.number_of_nodes()}\"\n",
    "    first_line += '\\r\\n'\n",
    "    path.write(first_line.encode(encoding))\n",
    "    \n",
    "    for comm in part.values():\n",
    "        line = f\"{comm+1}\"\n",
    "        line += '\\r\\n'\n",
    "        path.write(line.encode(encoding))        "
   ]
  },
  {
   "cell_type": "code",
   "execution_count": 15,
   "id": "7633440b",
   "metadata": {},
   "outputs": [],
   "source": [
    "# write pajek partition file\n",
    "\n",
    "p = os.path.join(\"partitions\", network_f, network_name)\n",
    "if not os.path.exists(p):\n",
    "    os.makedirs(p)\n",
    "\n",
    "path = os.path.join(p, network_name + '_greedy.clu')\n",
    "write_pajek_communities(part, path) # write file"
   ]
  },
  {
   "cell_type": "markdown",
   "id": "e339dc8b",
   "metadata": {},
   "source": [
    "## Asynchronous label propagation\n",
    "\n",
    "The algorithm proceeds as follows: after initializing each node with a unique label, the algorithm repeatedly sets the label of a node to be the label that appears most frequently among that nodes neighbors. The algorithm halts when each node has the label that appears most frequently among its neighbors. The algorithm is asynchronous because each node is updated without waiting for updates on the remaining nodes.\n",
    "\n",
    "The algorithm is implemented in the *networkx* package, and all the details can be seen [here](https://networkx.org/documentation/stable/reference/algorithms/generated/networkx.algorithms.community.label_propagation.asyn_lpa_communities.html#networkx.algorithms.community.label_propagation.asyn_lpa_communities). <br>\n",
    "Reference paper: [https://arxiv.org/abs/0709.2938)."
   ]
  },
  {
   "cell_type": "markdown",
   "id": "6978a241",
   "metadata": {},
   "source": [
    "### Community detection"
   ]
  },
  {
   "cell_type": "code",
   "execution_count": 16,
   "id": "dcd8f275",
   "metadata": {},
   "outputs": [],
   "source": [
    "communities = nx_comm.asyn_lpa_communities(G, weight='weight')"
   ]
  },
  {
   "cell_type": "code",
   "execution_count": 17,
   "id": "feae56e0",
   "metadata": {},
   "outputs": [
    {
     "name": "stdout",
     "output_type": "stream",
     "text": [
      "Partition 0\n",
      "{'LeftHub', 'Left1', 'Left2'}\n",
      "Partition 1\n",
      "{'RightHub', 'Middle', 'Right1', 'Right2'}\n"
     ]
    }
   ],
   "source": [
    "partitions = []\n",
    "for i, elem in enumerate(communities):\n",
    "    print(\"Partition {}\".format(i))\n",
    "    print(elem)\n",
    "    partitions.append(list(elem))"
   ]
  },
  {
   "cell_type": "code",
   "execution_count": 18,
   "id": "a6191ac0",
   "metadata": {},
   "outputs": [
    {
     "name": "stdout",
     "output_type": "stream",
     "text": [
      "Number of found communities: 2\n"
     ]
    }
   ],
   "source": [
    "print(\"Number of found communities: {}\".format(i+1))"
   ]
  },
  {
   "cell_type": "markdown",
   "id": "70a8ae09",
   "metadata": {},
   "source": [
    "### Modularity"
   ]
  },
  {
   "cell_type": "code",
   "execution_count": 19,
   "id": "fbd02833",
   "metadata": {},
   "outputs": [
    {
     "data": {
      "text/plain": [
       "0.3671875"
      ]
     },
     "execution_count": 19,
     "metadata": {},
     "output_type": "execute_result"
    }
   ],
   "source": [
    "nx_comm.modularity(G, partitions)"
   ]
  },
  {
   "cell_type": "markdown",
   "id": "33507ba8",
   "metadata": {},
   "source": [
    "### Community visualization"
   ]
  },
  {
   "cell_type": "code",
   "execution_count": 20,
   "id": "80a67ca4",
   "metadata": {},
   "outputs": [],
   "source": [
    "# dict assigning to each node the corresponding community number: we need this to build a color map\n",
    "part = {}\n",
    "\n",
    "for node in G.nodes():    \n",
    "    for i in range(len(partitions)):\n",
    "        if node in sorted(partitions[i]):\n",
    "            if '*' in str(node):\n",
    "                part[int(node.replace('*', \"\"))] = i\n",
    "            else:\n",
    "                part[node] = i\n",
    "#print(part)"
   ]
  },
  {
   "cell_type": "code",
   "execution_count": 21,
   "id": "6552b415",
   "metadata": {},
   "outputs": [
    {
     "data": {
      "image/png": "[encoded data removed]",
      "text/plain": [
       "<Figure size 864x864 with 1 Axes>"
      ]
     },
     "metadata": {},
     "output_type": "display_data"
    }
   ],
   "source": [
    "# draw nodes, with a different color for each community\n",
    "# get colormap to color nodes according to their partition\n",
    "if len(partitions) > 20:\n",
    "    cmap = cm.get_cmap('gist_ncar', max(part.values()) + 1)\n",
    "    #cmap = cm.get_cmap('tab20', max(part.values()) + 1)\n",
    "else:\n",
    "    cmap = cm.get_cmap('tab20', max(part.values()) + 1)\n",
    "nx.draw(G, pos=pos, cmap=cmap, node_color=list(part.values()), node_size=node_size)\n",
    "\n",
    "plt.savefig(os.path.join(p_i, network_name + '_asyn.png'))\n",
    "plt.show()"
   ]
  },
  {
   "cell_type": "code",
   "execution_count": 22,
   "id": "49e5bb66",
   "metadata": {},
   "outputs": [],
   "source": [
    "# write pajek partition file\n",
    "path = os.path.join(p, network_name + '_asyn.clu')\n",
    "write_pajek_communities(part, path)"
   ]
  },
  {
   "cell_type": "markdown",
   "id": "49633cce",
   "metadata": {},
   "source": [
    "## Louvain Community Detection Algorithm\n",
    "\n",
    "The algorithm is based on the optimization of the modularity measure and a hierarchical approach. Initially, each vertex is assigned to a community on its own. In every step, vertices are re-assigned to communities in a local, greedy way: in a random order, each vertex is moved to the community with which it achieves the highest contribution to modularity. When no vertices can be reassigned, each community is considered a vertex on its own, and the process starts again with the merged communities. The process stops when there is only a single vertex left or when the modularity cannot be increased any more in a step. <br>\n",
    "\n",
    "The algorithm is implemented in the *networkx* package, and all the details can be seen [here](https://networkx.org/documentation/stable//reference/algorithms/generated/networkx.algorithms.community.louvain.louvain_communities.html#networkx.algorithms.community.louvain.louvain_communities). <br>\n",
    "Reference paper: [https://iopscience.iop.org/article/10.1088/1742-5468/2008/10/P10008](https://iopscience.iop.org/article/10.1088/1742-5468/2008/10/P10008)."
   ]
  },
  {
   "cell_type": "markdown",
   "id": "b348c7de",
   "metadata": {},
   "source": [
    "### Community detection"
   ]
  },
  {
   "cell_type": "code",
   "execution_count": 23,
   "id": "b7b7bad5",
   "metadata": {},
   "outputs": [],
   "source": [
    "communities = nx_comm.louvain_communities(G, weight='weight', seed=seed)"
   ]
  },
  {
   "cell_type": "code",
   "execution_count": 24,
   "id": "5cd67f78",
   "metadata": {},
   "outputs": [
    {
     "name": "stdout",
     "output_type": "stream",
     "text": [
      "Number of found communities: 2\n"
     ]
    }
   ],
   "source": [
    "print(\"Number of found communities: {}\".format(len(communities)))\n",
    "#print(\"\\nCommunities:\")\n",
    "#print(communities)"
   ]
  },
  {
   "cell_type": "code",
   "execution_count": 25,
   "id": "283f643c",
   "metadata": {},
   "outputs": [],
   "source": [
    "# first community\n",
    "#print(sorted(communities[0]))"
   ]
  },
  {
   "cell_type": "markdown",
   "id": "1378875b",
   "metadata": {},
   "source": [
    "### Modularity"
   ]
  },
  {
   "cell_type": "code",
   "execution_count": 26,
   "id": "d61de364",
   "metadata": {},
   "outputs": [
    {
     "data": {
      "text/plain": [
       "0.3671875"
      ]
     },
     "execution_count": 26,
     "metadata": {},
     "output_type": "execute_result"
    }
   ],
   "source": [
    "nx_comm.modularity(G, communities)"
   ]
  },
  {
   "cell_type": "markdown",
   "id": "fe631522",
   "metadata": {},
   "source": [
    "### Community visualization"
   ]
  },
  {
   "cell_type": "code",
   "execution_count": 27,
   "id": "77c696c3",
   "metadata": {},
   "outputs": [],
   "source": [
    "# dict assigning to each node the corresponding community number: we need this to build a color map\n",
    "part = {}\n",
    "\n",
    "for node in G.nodes():    \n",
    "    for i in range(len(communities)):\n",
    "        if node in sorted(communities[i]):\n",
    "            if '*' in str(node):\n",
    "                part[int(node.replace('*', \"\"))] = i\n",
    "            else:\n",
    "                part[node] = i\n",
    "#print(part)"
   ]
  },
  {
   "cell_type": "code",
   "execution_count": 28,
   "id": "45e3abbd",
   "metadata": {},
   "outputs": [
    {
     "data": {
      "image/png": "[encoded data removed]",
      "text/plain": [
       "<Figure size 864x864 with 1 Axes>"
      ]
     },
     "metadata": {},
     "output_type": "display_data"
    }
   ],
   "source": [
    "# get colormap to color nodes according to their partition\n",
    "if len(communities) > 20:\n",
    "    cmap = cm.get_cmap('gist_ncar', max(part.values()) + 1)\n",
    "    #cmap = cm.get_cmap('tab20', max(part.values()) + 1)\n",
    "else:\n",
    "    cmap = cm.get_cmap('tab20', max(part.values()) + 1)\n",
    "    \n",
    "# draw nodes, with a different color for each community\n",
    "nx.draw(G, pos=pos, cmap=cmap, node_color=list(part.values()), node_size=node_size)\n",
    "plt.savefig(os.path.join(p_i, network_name + '_louvain.png'))\n",
    "plt.show()"
   ]
  },
  {
   "cell_type": "code",
   "execution_count": 29,
   "id": "5cd5ef3b",
   "metadata": {},
   "outputs": [],
   "source": [
    "# write pajek partition file\n",
    "path = os.path.join(p, network_name + '_louvain.clu')\n",
    "write_pajek_communities(part, path)"
   ]
  },
  {
   "cell_type": "markdown",
   "id": "1ee14508",
   "metadata": {},
   "source": [
    "## Spinglass community detection by Reichardt and Bornholdt \n",
    "\n",
    "This algorithm tries to find communities in graphs via a spin-glass model and simulated annealing. It is an approach from statistical physics, based on the so-called Potts model. In this model, each particle (i.e. vertex) can be in one of k spin states, and the interactions between the particles (i.e. the edges of the graph) specify which pairs of vertices would prefer to stay in the same spin state and which ones prefer to have different spin states. The model is then simulated for a given number of steps, and the spin states of the particles in the end define the communities. <br>\n",
    "\n",
    "The algorithm is implemented in the *igraph* package, and all the details can be seen [here](https://igraph.org/python/api/latest/igraph.Graph.html#community_spinglass). <br>\n",
    "Reference paper: [https://arxiv.org/abs/cond-mat/0603718)."
   ]
  },
  {
   "cell_type": "code",
   "execution_count": 30,
   "id": "ea6e4277",
   "metadata": {},
   "outputs": [],
   "source": [
    "# read the net as an igraph graph\n",
    "g = ig.Graph.Read_Pajek(os.path.join(\"nets\", network_f, network_name + '.net'))"
   ]
  },
  {
   "cell_type": "code",
   "execution_count": 31,
   "id": "073a4a20",
   "metadata": {},
   "outputs": [
    {
     "name": "stdout",
     "output_type": "stream",
     "text": [
      "IGRAPH UNW- 7 8 -- \n",
      "+ attr: id (v), name (v), x (v), y (v), weight (e)\n"
     ]
    }
   ],
   "source": [
    "# num.vertices, num.edges, attributes for vertices and edges\n",
    "ig.summary(g)"
   ]
  },
  {
   "cell_type": "markdown",
   "id": "8a1798d0",
   "metadata": {},
   "source": [
    "### Community detection"
   ]
  },
  {
   "cell_type": "code",
   "execution_count": 32,
   "id": "da8a1c55",
   "metadata": {},
   "outputs": [
    {
     "name": "stdout",
     "output_type": "stream",
     "text": [
      "Number of found communities: 2\n"
     ]
    }
   ],
   "source": [
    "communities = g.community_spinglass(weights=g.es[\"weight\"])\n",
    "#communities = g.community_spinglass()\n",
    "\n",
    "print(\"Number of found communities: {}\".format(len(communities)))\n",
    "#print(\"\\nCommunities:\")\n",
    "#print(communities)"
   ]
  },
  {
   "cell_type": "code",
   "execution_count": 33,
   "id": "6d330e5e",
   "metadata": {},
   "outputs": [],
   "source": [
    "# first identified community\n",
    "#communities.__getitem__(0)"
   ]
  },
  {
   "cell_type": "markdown",
   "id": "41e0640b",
   "metadata": {},
   "source": [
    "### Modularity\n",
    "*igraph* implementation of the modularity: [https://igraph.org/c/doc/igraph-Community.html#igraph_modularity](https://igraph.org/c/doc/igraph-Community.html#igraph_modularity). <br>\n",
    "It is the same as the one of *networkx*"
   ]
  },
  {
   "cell_type": "code",
   "execution_count": 34,
   "id": "66e638d5",
   "metadata": {},
   "outputs": [
    {
     "data": {
      "text/plain": [
       "0.3671875"
      ]
     },
     "execution_count": 34,
     "metadata": {},
     "output_type": "execute_result"
    }
   ],
   "source": [
    "# in case of weighted networks, we compute the weighted modularity\n",
    "mod = g.modularity(communities, weights = g.es[\"weight\"])\n",
    "mod"
   ]
  },
  {
   "cell_type": "markdown",
   "id": "e1bceffa",
   "metadata": {},
   "source": [
    "### Community visualization"
   ]
  },
  {
   "cell_type": "code",
   "execution_count": 35,
   "id": "e8735d9e",
   "metadata": {},
   "outputs": [],
   "source": [
    "# community of each node of the net\n",
    "#print(communities.membership)"
   ]
  },
  {
   "cell_type": "code",
   "execution_count": 36,
   "id": "29b7d8b8",
   "metadata": {},
   "outputs": [],
   "source": [
    "nodes = list(G.nodes())"
   ]
  },
  {
   "cell_type": "code",
   "execution_count": 37,
   "id": "00bc90ef",
   "metadata": {},
   "outputs": [],
   "source": [
    "# dict assigning to each node the corresponding community number: we need this to build a color map\n",
    "part = {}\n",
    "\n",
    "for i in range(len(communities.membership)):\n",
    "    part[nodes[i]] = communities.membership[i]\n",
    "\n",
    "#print(part)"
   ]
  },
  {
   "cell_type": "code",
   "execution_count": 38,
   "id": "b168d245",
   "metadata": {},
   "outputs": [
    {
     "data": {
      "image/png": "[encoded data removed]",
      "text/plain": [
       "<Figure size 864x864 with 1 Axes>"
      ]
     },
     "metadata": {},
     "output_type": "display_data"
    }
   ],
   "source": [
    "# get colormap to color nodes according to their partition\n",
    "if len(communities) > 20:\n",
    "    cmap = cm.get_cmap('gist_ncar', max(part.values()) + 1)\n",
    "    #cmap = cm.get_cmap('tab20', max(part.values()) + 1)\n",
    "else:\n",
    "    cmap = cm.get_cmap('tab20', max(part.values()) + 1)\n",
    "\n",
    "# draw nodes, with a different color for each community\n",
    "nx.draw(G, pos=pos, cmap=cmap, node_color=list(part.values()), node_size=node_size)\n",
    "plt.savefig(os.path.join(p_i, network_name + '_spinglass.png'))\n",
    "plt.show()"
   ]
  },
  {
   "cell_type": "code",
   "execution_count": 39,
   "id": "30ec393b",
   "metadata": {},
   "outputs": [],
   "source": [
    "# write pajek partition file\n",
    "path = os.path.join(p, network_name + '_spinglass.clu')\n",
    "write_pajek_communities(part, path)"
   ]
  },
  {
   "cell_type": "markdown",
   "id": "afcc63f4",
   "metadata": {},
   "source": [
    "## Walktrap community detection by Pons and Latapy\n",
    "Community structure based on random walks\n",
    "\n",
    "The general idea of the algorithm is that if you perform random walks on the graph, then the walks are more likely to stay within the same community because there are only a few edges that lead outside a given community. This method runs short random walks of 3-4-5 steps (depending on one of its parameters, in our case we use the default value set to 4) and uses the results of these random walks to merge separate communities in a bottom-up manner. You can use the modularity score to select where to cut the dendrogram: in our case we'll choose the partition with the highest modularity score.<br>\n",
    "\n",
    "The algorithm is implemented in the *igraph* package, and all the details can be seen [here](https://igraph.org/python/api/latest/igraph.Graph.html#community_walktrap). <br>\n",
    "Reference paper: [https://arxiv.org/abs/physics/0512106](https://arxiv.org/abs/physics/0512106)."
   ]
  },
  {
   "cell_type": "markdown",
   "id": "c63b8c2c",
   "metadata": {},
   "source": [
    "### Community detection"
   ]
  },
  {
   "cell_type": "code",
   "execution_count": 40,
   "id": "92c30dab",
   "metadata": {},
   "outputs": [],
   "source": [
    "communities = g.community_walktrap(weights=g.es[\"weight\"])"
   ]
  },
  {
   "cell_type": "code",
   "execution_count": 41,
   "id": "f284ac7d",
   "metadata": {},
   "outputs": [
    {
     "data": {
      "text/plain": [
       "<igraph.clustering.VertexDendrogram at 0x22b7d47df70>"
      ]
     },
     "execution_count": 41,
     "metadata": {},
     "output_type": "execute_result"
    }
   ],
   "source": [
    "# in this case the output is a dendrogram, i.e. a hierarchy of partitions\n",
    "communities"
   ]
  },
  {
   "cell_type": "code",
   "execution_count": 42,
   "id": "a732c17d",
   "metadata": {},
   "outputs": [
    {
     "name": "stdout",
     "output_type": "stream",
     "text": [
      "Dendrogram, 7 elements, 6 merges\n",
      "\n",
      "1 0 2 3 6 5 4\n",
      "| | | | | | |\n",
      "`-' | | `-' |\n",
      " |  | |  |  |\n",
      " `--' |  `--'\n",
      "  |   |   |  \n",
      "  `---'   |  \n",
      "    |     |  \n",
      "    `-----'\n"
     ]
    }
   ],
   "source": [
    "print(communities)"
   ]
  },
  {
   "cell_type": "code",
   "execution_count": 43,
   "id": "1b75f597",
   "metadata": {},
   "outputs": [
    {
     "name": "stdout",
     "output_type": "stream",
     "text": [
      "Number of found communities: 2\n"
     ]
    }
   ],
   "source": [
    "# Cut the dendogram in the max modularity level\n",
    "communities = communities.as_clustering()\n",
    "print(\"Number of found communities: {}\".format(len(communities)))\n",
    "#print(\"\\nCommunities:\")\n",
    "#print(communities)"
   ]
  },
  {
   "cell_type": "code",
   "execution_count": 44,
   "id": "59bc3ab5",
   "metadata": {},
   "outputs": [],
   "source": [
    "#communities.__getitem__(0)"
   ]
  },
  {
   "cell_type": "markdown",
   "id": "fecac98d",
   "metadata": {},
   "source": [
    "### Modularity"
   ]
  },
  {
   "cell_type": "code",
   "execution_count": 45,
   "id": "9bc01d87",
   "metadata": {},
   "outputs": [
    {
     "data": {
      "text/plain": [
       "0.3671875"
      ]
     },
     "execution_count": 45,
     "metadata": {},
     "output_type": "execute_result"
    }
   ],
   "source": [
    "mod = g.modularity(communities, weights = g.es[\"weight\"])\n",
    "mod"
   ]
  },
  {
   "cell_type": "markdown",
   "id": "c3cedef1",
   "metadata": {},
   "source": [
    "### Community visualization"
   ]
  },
  {
   "cell_type": "code",
   "execution_count": 46,
   "id": "d1d15474",
   "metadata": {},
   "outputs": [],
   "source": [
    "# community of each node of the net\n",
    "#print(communities.membership)"
   ]
  },
  {
   "cell_type": "code",
   "execution_count": 47,
   "id": "efb7e699",
   "metadata": {},
   "outputs": [],
   "source": [
    "# dict assigning to each node the corresponding community number: we need this to build a color map\n",
    "part = {}\n",
    "\n",
    "for i in range(len(communities.membership)):\n",
    "    part[nodes[i]] = communities.membership[i]\n",
    "\n",
    "#print(part)"
   ]
  },
  {
   "cell_type": "code",
   "execution_count": 48,
   "id": "5e8adc24",
   "metadata": {},
   "outputs": [
    {
     "data": {
      "image/png": "[encoded data removed]",
      "text/plain": [
       "<Figure size 864x864 with 1 Axes>"
      ]
     },
     "metadata": {},
     "output_type": "display_data"
    }
   ],
   "source": [
    "# get colormap to color nodes according to their partition\n",
    "if len(communities) > 20:\n",
    "    cmap = cm.get_cmap('gist_ncar', max(part.values()) + 1)\n",
    "    #cmap = cm.get_cmap('tab20', max(part.values()) + 1)\n",
    "else:\n",
    "    cmap = cm.get_cmap('tab20', max(part.values()) + 1)\n",
    "\n",
    "# draw nodes, with a different color for each community\n",
    "nx.draw(G, pos=pos, cmap=cmap, node_color=list(part.values()), node_size=node_size)\n",
    "plt.savefig(os.path.join(p_i, network_name + '_walktrap.png'))\n",
    "plt.show()"
   ]
  },
  {
   "cell_type": "code",
   "execution_count": 49,
   "id": "1d0eb87f",
   "metadata": {},
   "outputs": [],
   "source": [
    "# write pajek partition file\n",
    "path = os.path.join(p, network_name + '_walktrap.clu')\n",
    "write_pajek_communities(part, path)"
   ]
  },
  {
   "cell_type": "markdown",
   "id": "5819ece9",
   "metadata": {},
   "source": [
    "## Girvan–Newman (GN)\n",
    "The GN algorithm is one of the most famous community detection algorithm and also one of the most intuitive. The specificity of this algorithm is the use of **betweeness centrality** of an edge: the number of shortest path between nodes in which this edge is part of. <br>\n",
    "The idea is that the betweenness of the edges connecting two communities is typically high, as many of the shortest paths between nodes in separate communities go through them. So we gradually remove the edge with highest betweenness from the network, and recalculate edge betweenness after every removal. This way sooner or later the network falls off to two components, then after a while one of these components falls off to two smaller components, etc. until all edges are removed. This is a divisive hierarchical approach, the result is a dendrogram (again we choose the partition corresponding to the max modularity value). <br>\n",
    "\n",
    "The algorithm is implemented in the *igraph* package, and all the details can be seen [here](https://igraph.org/python/api/latest/igraph.Graph.html#community_edge_betweenness). <br>\n",
    "Reference paper: [https://arxiv.org/abs/cond-mat/0112110](https://arxiv.org/abs/cond-mat/0112110)."
   ]
  },
  {
   "cell_type": "markdown",
   "id": "5402384d",
   "metadata": {},
   "source": [
    "### Community detection"
   ]
  },
  {
   "cell_type": "code",
   "execution_count": 50,
   "id": "eccd700b",
   "metadata": {},
   "outputs": [],
   "source": [
    "communities = g.community_edge_betweenness()"
   ]
  },
  {
   "cell_type": "code",
   "execution_count": 51,
   "id": "08055b1c",
   "metadata": {},
   "outputs": [
    {
     "data": {
      "text/plain": [
       "<igraph.clustering.VertexDendrogram at 0x22b7d4e26a0>"
      ]
     },
     "execution_count": 51,
     "metadata": {},
     "output_type": "execute_result"
    }
   ],
   "source": [
    "# in this case the output is a dendrogram, i.e. a hierarchy of partitions\n",
    "communities"
   ]
  },
  {
   "cell_type": "code",
   "execution_count": 52,
   "id": "a0a9d219",
   "metadata": {},
   "outputs": [
    {
     "name": "stdout",
     "output_type": "stream",
     "text": [
      "Dendrogram, 7 elements, 6 merges\n",
      "\n",
      "0 1 2 3 4 5 6\n",
      "| | | | | | |\n",
      "| | | | | `-'\n",
      "| | | | |  | \n",
      "| `-' | `--' \n",
      "|  |  |  |   \n",
      "`--'  `--'   \n",
      " |     |     \n",
      " `-----'\n"
     ]
    }
   ],
   "source": [
    "print(communities)"
   ]
  },
  {
   "cell_type": "code",
   "execution_count": 53,
   "id": "964ce621",
   "metadata": {},
   "outputs": [
    {
     "name": "stdout",
     "output_type": "stream",
     "text": [
      "Number of found communities: 2\n"
     ]
    }
   ],
   "source": [
    "# Cut the dendogram in the max modularity level\n",
    "communities = communities.as_clustering()\n",
    "print(\"Number of found communities: {}\".format(len(communities)))\n",
    "#print(\"\\nCommunities:\")\n",
    "#print(communities)"
   ]
  },
  {
   "cell_type": "code",
   "execution_count": 54,
   "id": "bfa9a647",
   "metadata": {},
   "outputs": [],
   "source": [
    "#communities.__getitem__(0)"
   ]
  },
  {
   "cell_type": "markdown",
   "id": "04cac7b7",
   "metadata": {},
   "source": [
    "### Modularity"
   ]
  },
  {
   "cell_type": "code",
   "execution_count": 55,
   "id": "bdfe66ea",
   "metadata": {},
   "outputs": [
    {
     "data": {
      "text/plain": [
       "0.3671875"
      ]
     },
     "execution_count": 55,
     "metadata": {},
     "output_type": "execute_result"
    }
   ],
   "source": [
    "mod = g.modularity(communities, weights = g.es[\"weight\"])\n",
    "mod"
   ]
  },
  {
   "cell_type": "markdown",
   "id": "6bde6189",
   "metadata": {},
   "source": [
    "### Community visualization"
   ]
  },
  {
   "cell_type": "code",
   "execution_count": 56,
   "id": "eea70d88",
   "metadata": {},
   "outputs": [],
   "source": [
    "# community of each node of the net\n",
    "#print(communities.membership)"
   ]
  },
  {
   "cell_type": "code",
   "execution_count": 57,
   "id": "b7e84d59",
   "metadata": {},
   "outputs": [],
   "source": [
    "# dict assigning to each node the corresponding community number: we need this to build a color map\n",
    "part = {}\n",
    "\n",
    "for i in range(len(communities.membership)):\n",
    "    part[nodes[i]] = communities.membership[i]\n",
    "\n",
    "#print(part)"
   ]
  },
  {
   "cell_type": "code",
   "execution_count": 58,
   "id": "342962e6",
   "metadata": {},
   "outputs": [
    {
     "data": {
      "image/png": "[encoded data removed]",
      "text/plain": [
       "<Figure size 864x864 with 1 Axes>"
      ]
     },
     "metadata": {},
     "output_type": "display_data"
    }
   ],
   "source": [
    "# get colormap to color nodes according to their partition\n",
    "if len(communities) > 20:\n",
    "    cmap = cm.get_cmap('gist_ncar', max(part.values()) + 1)\n",
    "    #cmap = cm.get_cmap('tab20', max(part.values()) + 1)\n",
    "else:\n",
    "    cmap = cm.get_cmap('tab20', max(part.values()) + 1)\n",
    "# draw nodes, with a different color for each community\n",
    "nx.draw(G, pos=pos, cmap=cmap, node_color=list(part.values()), node_size=node_size)\n",
    "plt.savefig(os.path.join(p_i, network_name + '_girvan-newman.png'))\n",
    "plt.show()"
   ]
  },
  {
   "cell_type": "code",
   "execution_count": 59,
   "id": "1d0eb87f",
   "metadata": {},
   "outputs": [],
   "source": [
    "# write pajek partition file\n",
    "path = os.path.join(p, network_name + '_girvan-newman.clu')\n",
    "write_pajek_communities(part, path)"
   ]
  },
  {
   "cell_type": "markdown",
   "id": "8857a182",
   "metadata": {},
   "source": [
    "### Compute modularities of the already provided partitions\n",
    "We define now an auxiliary function for reading a *.clu* file (pajex partitions file). The function returns the list of communities.<br>\n",
    "We' ll need it to compute the modularity of the already provided network partitions."
   ]
  },
  {
   "cell_type": "code",
   "execution_count": 60,
   "id": "706da6ee",
   "metadata": {},
   "outputs": [],
   "source": [
    "@open_file(0, mode='rb')\n",
    "def read_pajek_communities(path, encoding='UTF-8'):\n",
    "    lines = (line.decode(encoding) for line in path)\n",
    "    \n",
    "    if isinstance(lines, str):\n",
    "        lines = iter(lines.split('\\n'))\n",
    "    lines = iter([line.rstrip('\\n') for line in lines])\n",
    "    \n",
    "    while lines:\n",
    "        try:\n",
    "            l = next(lines)\n",
    "        except:  # EOF\n",
    "            break\n",
    "        if l.lower().startswith(\"*vertices\"):\n",
    "            l, nnodes = l.split()\n",
    "            communities = defaultdict(list)\n",
    "            for vertex in range(int(nnodes)):\n",
    "                l = next(lines)\n",
    "                community = int(l)\n",
    "                communities.setdefault(community, []).append(vertex)\n",
    "        else:\n",
    "            break\n",
    "            \n",
    "    return [ v for k,v in dict(communities).items() ]"
   ]
  },
  {
   "cell_type": "code",
   "execution_count": 61,
   "id": "2fbb1da4",
   "metadata": {},
   "outputs": [],
   "source": [
    "network_part_name = \"graph3+1+3\"\n",
    "\n",
    "# read the network\n",
    "path = os.path.join(\"nets\", network_f, network_part_name + '.clu')\n",
    "communities_pajek = read_pajek_communities(path, encoding='UTF-8')\n",
    "#communities_pajek"
   ]
  },
  {
   "cell_type": "code",
   "execution_count": 62,
   "id": "19a3a5d6",
   "metadata": {},
   "outputs": [],
   "source": [
    "# assign correct labels to the nodes in each partition\n",
    "nodes_list = np.array(list(G.nodes))\n",
    "\n",
    "for community in communities_pajek:\n",
    "    for i, v in enumerate(community):\n",
    "        community[i] = nodes_list[v]"
   ]
  },
  {
   "cell_type": "markdown",
   "id": "0bfbbe71",
   "metadata": {},
   "source": [
    "### Compute modularity"
   ]
  },
  {
   "cell_type": "code",
   "execution_count": 63,
   "id": "c288625c",
   "metadata": {},
   "outputs": [
    {
     "data": {
      "text/plain": [
       "0.3515625"
      ]
     },
     "execution_count": 63,
     "metadata": {},
     "output_type": "execute_result"
    }
   ],
   "source": [
    "nx_comm.modularity(G, communities_pajek)"
   ]
  }
 ],
 "metadata": {
  "kernelspec": {
   "display_name": "Python 3 (ipykernel)",
   "language": "python",
   "name": "python3"
  },
  "language_info": {
   "codemirror_mode": {
    "name": "ipython",
    "version": 3
   },
   "file_extension": ".py",
   "mimetype": "text/x-python",
   "name": "python",
   "nbconvert_exporter": "python",
   "pygments_lexer": "ipython3",
   "version": "3.9.7"
  }
 },
 "nbformat": 4,
 "nbformat_minor": 5
}
